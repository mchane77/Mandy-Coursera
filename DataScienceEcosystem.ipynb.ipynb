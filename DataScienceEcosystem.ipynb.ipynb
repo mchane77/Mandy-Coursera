{
 "cells": [
  {
   "cell_type": "code",
   "execution_count": 2,
   "id": "0093105c-9556-476c-b4fc-f6e1ee0660f9",
   "metadata": {},
   "outputs": [],
   "source": [
    "# Data Science Tools and Ecosystem"
   ]
  },
  {
   "cell_type": "code",
   "execution_count": 12,
   "id": "421f3aea-5e94-4eef-b0c4-5e14fec0e86c",
   "metadata": {},
   "outputs": [
    {
     "name": "stdout",
     "output_type": "stream",
     "text": [
      "In this notebook, various aspects of data science, including tools, techniques, and their ecosystem, are explored.\n"
     ]
    }
   ],
   "source": [
    "intro_sentence = \"In this notebook, various aspects of data science, including tools, techniques, and their ecosystem, are explored.\"\n",
    "print(intro_sentence)"
   ]
  },
  {
   "cell_type": "code",
   "execution_count": 13,
   "id": "07e36423-751c-478b-a03e-04139b451d70",
   "metadata": {},
   "outputs": [
    {
     "name": "stdout",
     "output_type": "stream",
     "text": [
      "Some of the popular languages that Data Scientists use are:\n",
      "\n",
      "1. Python\n",
      "2. R\n",
      "3. SQL\n",
      "4. Julia\n",
      "5. Scala\n"
     ]
    }
   ],
   "source": [
    "languages = [\"Python\", \"R\", \"SQL\", \"Julia\", \"Scala\"]\n",
    "print(\"Some of the popular languages that Data Scientists use are:\\n\")\n",
    "for i, lang in enumerate(languages, 1):\n",
    "    print(f\"{i}. {lang}\")"
   ]
  },
  {
   "cell_type": "code",
   "execution_count": 14,
   "id": "e9f8b87a-8fee-43cf-9484-ae7f8abb3848",
   "metadata": {},
   "outputs": [
    {
     "name": "stdout",
     "output_type": "stream",
     "text": [
      "Some of the commonly used libraries used by Data Scientists include:\n",
      "\n",
      "1. NumPy\n",
      "2. Pandas\n",
      "3. Scikit-learn\n",
      "4. TensorFlow\n",
      "5. Matplotlib\n"
     ]
    }
   ],
   "source": [
    "libraries = [\"NumPy\", \"Pandas\", \"Scikit-learn\", \"TensorFlow\", \"Matplotlib\"]\n",
    "print(\"Some of the commonly used libraries used by Data Scientists include:\\n\")\n",
    "for i, lib in enumerate(libraries, 1):\n",
    "    print(f\"{i}. {lib}\")"
   ]
  },
  {
   "cell_type": "markdown",
   "id": "ab38006d-3926-4f37-b505-0bd01ee2ce04",
   "metadata": {},
   "source": [
    "### Data Science Tools  \n",
    "\n",
    "| Data Science Tools  |\n",
    "|---------------------|\n",
    "| Jupyter Notebook   |\n",
    "| RStudio           |\n",
    "| Apache Zeppelin   |\n"
   ]
  },
  {
   "cell_type": "code",
   "execution_count": 28,
   "id": "fdade80f-d8ee-4aaa-8c34-de24acdde238",
   "metadata": {},
   "outputs": [
    {
     "ename": "ModuleNotFoundError",
     "evalue": "No module named 'tabulate'",
     "output_type": "error",
     "traceback": [
      "\u001b[0;31m---------------------------------------------------------------------------\u001b[0m",
      "\u001b[0;31mModuleNotFoundError\u001b[0m                       Traceback (most recent call last)",
      "Cell \u001b[0;32mIn[28], line 1\u001b[0m\n\u001b[0;32m----> 1\u001b[0m \u001b[38;5;28;01mfrom\u001b[39;00m\u001b[38;5;250m \u001b[39m\u001b[38;5;21;01mtabulate\u001b[39;00m\u001b[38;5;250m \u001b[39m\u001b[38;5;28;01mimport\u001b[39;00m tabulate\n\u001b[1;32m      3\u001b[0m \u001b[38;5;66;03m# Define the table data\u001b[39;00m\n\u001b[1;32m      4\u001b[0m data \u001b[38;5;241m=\u001b[39m [[\u001b[38;5;124m\"\u001b[39m\u001b[38;5;124mJupyter Notebook\u001b[39m\u001b[38;5;124m\"\u001b[39m], [\u001b[38;5;124m\"\u001b[39m\u001b[38;5;124mRStudio\u001b[39m\u001b[38;5;124m\"\u001b[39m], [\u001b[38;5;124m\"\u001b[39m\u001b[38;5;124mApache Zeppelin\u001b[39m\u001b[38;5;124m\"\u001b[39m]]\n",
      "\u001b[0;31mModuleNotFoundError\u001b[0m: No module named 'tabulate'"
     ]
    }
   ],
   "source": [
    "from tabulate import tabulate\n",
    "\n",
    "# Define the table data\n",
    "data = [[\"Jupyter Notebook\"], [\"RStudio\"], [\"Apache Zeppelin\"]]\n",
    "\n",
    "# Define the header\n",
    "headers = [\"Data Science Tools\"]\n",
    "\n",
    "# Print the table\n",
    "print(tabulate(data, headers, tablefmt=\"grid\"))\n"
   ]
  },
  {
   "cell_type": "code",
   "execution_count": 29,
   "id": "310a6d14-323a-403b-91a7-9e5ea3bf7c4d",
   "metadata": {},
   "outputs": [
    {
     "name": "stdout",
     "output_type": "stream",
     "text": [
      "Collecting tabulate\n",
      "  Downloading tabulate-0.9.0-py3-none-any.whl.metadata (34 kB)\n",
      "Downloading tabulate-0.9.0-py3-none-any.whl (35 kB)\n",
      "Installing collected packages: tabulate\n",
      "Successfully installed tabulate-0.9.0\n"
     ]
    }
   ],
   "source": [
    "!pip install tabulate"
   ]
  },
  {
   "cell_type": "code",
   "execution_count": 30,
   "id": "67f83852-c415-4a4f-ab72-d3e95e61c830",
   "metadata": {},
   "outputs": [
    {
     "name": "stdout",
     "output_type": "stream",
     "text": [
      "+----------------------+\n",
      "| Data Science Tools   |\n",
      "+======================+\n",
      "| Jupyter Notebook     |\n",
      "+----------------------+\n",
      "| RStudio              |\n",
      "+----------------------+\n",
      "| Apache Zeppelin      |\n",
      "+----------------------+\n"
     ]
    }
   ],
   "source": [
    "from tabulate import tabulate\n",
    "\n",
    "# Define the table data\n",
    "data = [[\"Jupyter Notebook\"], [\"RStudio\"], [\"Apache Zeppelin\"]]\n",
    "\n",
    "# Define the header\n",
    "headers = [\"Data Science Tools\"]\n",
    "\n",
    "# Print the table\n",
    "print(tabulate(data, headers, tablefmt=\"grid\"))\n"
   ]
  },
  {
   "cell_type": "markdown",
   "id": "849788db-df83-4b8b-80a5-42f9f03820e4",
   "metadata": {},
   "source": [
    "### Below are a few examples of evaluating arithmetic expressions in Python.\n",
    "\n",
    "- **Addition:** `3 + 5 = 8`  \n",
    "- **Subtraction:** `10 - 4 = 6`  \n",
    "- **Multiplication:** `6 * 7 = 42`  \n",
    "- **Division:** `16 / 4 = 4.0`  \n",
    "- **Exponentiation:** `2 ** 3 = 8`  \n"
   ]
  },
  {
   "cell_type": "code",
   "execution_count": 31,
   "id": "c07289e7-8840-4206-857b-05d23bbab8ef",
   "metadata": {},
   "outputs": [
    {
     "name": "stdout",
     "output_type": "stream",
     "text": [
      "17\n"
     ]
    }
   ],
   "source": [
    "# This is a simple arithmetic expression to multiply then add integers.\n",
    "result = (3 * 4) + 5\n",
    "print(result)  # Expected output: 17\n"
   ]
  },
  {
   "cell_type": "code",
   "execution_count": 32,
   "id": "b09c55b1-eb67-45b4-94f6-435f79d473ef",
   "metadata": {},
   "outputs": [
    {
     "name": "stdout",
     "output_type": "stream",
     "text": [
      "3.3333333333333335\n"
     ]
    }
   ],
   "source": [
    "# This will convert 200 minutes to hours by dividing by 60.\n",
    "hours = 200 / 60\n",
    "print(hours)  # Expected output: 3.3333...\n"
   ]
  },
  {
   "cell_type": "markdown",
   "id": "12c88d4a-208e-458b-8119-56902781f242",
   "metadata": {},
   "source": [
    "**Objectives:**  \n",
    "\n",
    "- List popular languages for Data Science  \n",
    "- Identify commonly used libraries in Data Science  \n",
    "- Explore open-source development environment tools  \n",
    "- Perform basic arithmetic operations in Python  \n",
    "- Convert units such as minutes to hours using Python  \n"
   ]
  },
  {
   "cell_type": "markdown",
   "id": "c7576e48-e026-4ac7-8675-8bfa29b12b87",
   "metadata": {},
   "source": [
    "## Author  \n",
    "Mandy  \n"
   ]
  },
  {
   "cell_type": "code",
   "execution_count": null,
   "id": "4d707ba0-552e-4012-a0a9-87d0ed6b8177",
   "metadata": {},
   "outputs": [],
   "source": []
  }
 ],
 "metadata": {
  "kernelspec": {
   "display_name": "Python 3 (ipykernel)",
   "language": "python",
   "name": "python3"
  },
  "language_info": {
   "codemirror_mode": {
    "name": "ipython",
    "version": 3
   },
   "file_extension": ".py",
   "mimetype": "text/x-python",
   "name": "python",
   "nbconvert_exporter": "python",
   "pygments_lexer": "ipython3",
   "version": "3.12.8"
  }
 },
 "nbformat": 4,
 "nbformat_minor": 5
}
